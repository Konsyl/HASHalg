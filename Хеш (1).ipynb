{
 "cells": [
  {
   "cell_type": "code",
   "execution_count": 1,
   "metadata": {},
   "outputs": [],
   "source": [
    "import numpy as np\n",
    "import pandas as pan\n",
    "import math as mt\n",
    "import random\n",
    "import matplotlib.pyplot as plt\n",
    "import matplotlib as mat\n",
    "import PIL\n",
    "from PIL import Image\n",
    "import pickle\n",
    "import networkx as nx\n",
    "from datetime import datetime\n",
    "import time"
   ]
  },
  {
   "cell_type": "markdown",
   "metadata": {},
   "source": [
    "# Network"
   ]
  },
  {
   "cell_type": "code",
   "execution_count": 2,
   "metadata": {},
   "outputs": [],
   "source": [
    "class kohonenNetwork:\n",
    "    def __init__(self,neuronsCount, learningRate, weights):\n",
    "        self.constWeights=weights\n",
    "        self.weights=weights\n",
    "        self.neuronsCount=neuronsCount\n",
    "        self.neurons=np.zeros(self.neuronsCount)\n",
    "        self.neurons=weights\n",
    "        self.learningRate=learningRate\n",
    "        \n",
    "    def createWeight(self, shape):\n",
    "        self.neurons=np.array([random.uniform(0,1) for i in range(15360)]).reshape(shape)\n",
    "        \n",
    "    def distance(self,neuron, obj):\n",
    "        #print(type(float(np.sqrt(np.sum( (neuron-obj)**2)))))\n",
    "        result = np.sqrt(np.sum( (neuron-obj)**2) ) \n",
    "        return result\n",
    "        \n",
    "    def train(self,data, epoch=10):#переделать потом на numpy        \n",
    "        for epo in range(epoch):\n",
    "            for i in range(len(data)):\n",
    "                number=0\n",
    "                mymin=100000\n",
    "                for neuron in self.neurons:\n",
    "                    dist=self.distance(neuron, data[i] )\n",
    "                    if(mymin>dist):\n",
    "                        mymin=dist\n",
    "                        number = neuron\n",
    "                number = number + self.learningRate*data[i]\n",
    "            np.random.shuffle(data)\n",
    "        #print('Good')\n",
    "        \n",
    "    def retrain(self,data,epoch=10):\n",
    "        #self.createWeight(self.constWeights.shape) #######\n",
    "        self.createWeight(self.constWeights.shape)\n",
    "        self.train(data=data,epoch=epoch)\n",
    "        \n",
    "    def cluster(self,obj): #переделать под numpy\n",
    "        mymin=10000\n",
    "        clust = 0\n",
    "        itr=0\n",
    "        for i in self.neurons:\n",
    "            if(mymin>self.distance(i,obj)):\n",
    "                mymin = self.distance(i,obj)\n",
    "                clust = itr\n",
    "            itr = itr + 1\n",
    "        return clust\n",
    "    \n",
    "    def load(self,path): #сохранение весов сети\n",
    "        self.neurons=np.load(path) #загрузка весов сети \n",
    "        \n",
    "    def save(self,path):\n",
    "        np.save(path, self.neurons)     \n",
    "        \n",
    "    def createClusterNumberSet(self, images): #Кластеризация нескольких изображений(возвращает массив из номеров класетров)\n",
    "        listofnumber=[]\n",
    "        for i in images:\n",
    "            listofnumber.append(self.cluster(i))\n",
    "        return listofnumber\n",
    "    \n",
    "    def createSetOfImages(self, images, clusternumbers):#Возвращает список кластеризованных изображений то есть список кластеров с картинками \n",
    "        #print(\"Creating...\")\n",
    "        j=0\n",
    "        imagesSet=[[] for i in range(self.neuronsCount)]################### add: np.array()\n",
    "        for i in images:\n",
    "            number = clusternumbers[j]\n",
    "            #imagesSet[number]=np.vstack((imagesSet[number],i))\n",
    "            imagesSet[number].append(i)\n",
    "            j+=1\n",
    "        #print(\"Good\")\n",
    "            #print(len(imagesSet[i]))\n",
    "        res = []\n",
    "        for i in range(self.neuronsCount):\n",
    "            #if(len(imagesSet[i])>0):\n",
    "            res.append(imagesSet[i])\n",
    "        \n",
    "        return res #np.asarray(imagesSet)\n",
    "    \n",
    "    def createSetOfNumbers(self, images, clusternumbers):# возвращает список с кластерами номеров соответствующих им изображений\n",
    "        #print(\"Creating...\")\n",
    "        j=0\n",
    "        numberSet=[[] for i in range(self.neuronsCount)]\n",
    "        for i in range(len(images)):\n",
    "            number = clusternumbers[j]\n",
    "            numberSet[number].append(i)\n",
    "            j+=1\n",
    "        #print(\"Good\")\n",
    "        return numberSet\n",
    "            \n",
    " "
   ]
  },
  {
   "cell_type": "markdown",
   "metadata": {},
   "source": [
    "# Functions"
   ]
  },
  {
   "cell_type": "code",
   "execution_count": 3,
   "metadata": {},
   "outputs": [],
   "source": [
    "#MyFunctions\n",
    "def load_cfar10_batch(cifar10_dataset_folder_path, batch_id):\n",
    "    #+ '/data_batch_'\n",
    "    with open(cifar10_dataset_folder_path + '/'+ str(batch_id), mode='rb') as file:\n",
    "        # note the encoding type is 'latin1'\n",
    "        batch = pickle.load(file, encoding='latin1')\n",
    "        \n",
    "    features = batch['data'].reshape((len(batch['data']), 3, 32, 32)).transpose(0, 2, 3, 1)\n",
    "    #labels = batch['labels']      \n",
    "    #return features, labels\n",
    "    return features\n",
    "\n",
    "def isSimpleStruct(obj):# определить является ли структура просто массивом картинок\n",
    "    #print(obj)\n",
    "    #print(type(obj[0]))\n",
    "    if(type(obj[0]) == list): return False\n",
    "    if(type(obj[0]) == np.ndarray): return True\n",
    "    #if(len(obj.shape) == 4):\n",
    "     #   if(obj.shape[1] == 32 and obj.shape[2] == 32 and obj.shape[3] == 3):\n",
    "      #      return True\n",
    "        \n",
    "    return False\n",
    "\n",
    "\n",
    "def findMean(data):\n",
    "    some=np.zeros((32,32,3))\n",
    "    for image in data:\n",
    "        some=some+image\n",
    "    some=some//data.shape[0]\n",
    "    return some\n",
    "    \n",
    "#Main Algorithm############################################################################################################\n",
    "def method(data, network, numbers):\n",
    "    #print('Начало:') \n",
    "    tempNumbers=numbers\n",
    "    #print(data.shape)\n",
    "    if(isSimpleStruct(data)):\n",
    "        if(len(data) > 5):\n",
    "            #print('Набор картинок:')\n",
    "            weights = np.array([random.uniform(0,1) for i in range(15360)]).reshape(5,32,32,3)#убарть на ReTrain\n",
    "            network = kohonenNetwork(5,0.1, weights)  ##Network.Retrain\n",
    "            network.train(data, 5)######################\n",
    "            ##network.retrain(data)\n",
    "            \n",
    "            network.save(')\n",
    "            \n",
    "            #for i in data:\n",
    "                #if(np.array_equal(i,features[0])):\n",
    "                    #print(tempNumbers,'тут')\n",
    "                    #print(network.neurons[0][0])\n",
    "                    #print(network.cluster(features[0]))\n",
    "            dataNumbers=network.createClusterNumberSet(data)\n",
    "            data = network.createSetOfImages(data , dataNumbers)\n",
    "            \n",
    "            data = method(data, network, tempNumbers)\n",
    "            \n",
    "    else:\n",
    "        \n",
    "        for (mas) in range(len(data)):\n",
    "            \n",
    "            \n",
    "                #if(np.array_equal(i,features[0])):\n",
    "                    #print(mas,'тут внутри массива')\n",
    "            if(data[mas] == []): continue\n",
    "                \n",
    "            data[mas] = method(data[mas],network,(tempNumbers + \",\" + str(mas)))\n",
    "\n",
    "    return data\n",
    "#VIIIIIIIIIIIIIIIIIIIIIIIIIIIIIIIIIIIIIIIIIIIIIIIIIIIIIIIIIIIIISSSSSSSSSSSSSSSSUUUUUUUUUUUUUUUUUUUUAAAAAAAAAAAAAALLLLLLLLL\n",
    "def visual(data, gr, st, MYMY):#уб\n",
    "    if(data == []):\n",
    "        gr.add_node('пус'+st)\n",
    "        return 'пус'+st\n",
    "    if(type(data[0])==np.ndarray):\n",
    "        gr.add_node(st+' К:' + str(len(data)))\n",
    "        for i in data:#уб\n",
    "            if(np.array_equal(i, MYMY)):#уб\n",
    "                print(st + ' тут') #уб\n",
    "                \n",
    "                \n",
    "        return st+' К:' + str(len(data))\n",
    "    else:\n",
    "        gr.add_node(st)\n",
    "        for i in range(len(data)):\n",
    "            gr.add_edge(st, visual(data[i],gr,st +','+str(i), MYMY))#уб MYMY\n",
    "        return st\n",
    "#Coooooooooooooooooooooooooollllllllllllllllllllllooooooooooooooooooooorrrrrrrrrrrrrrrrrrrrrrrrrssssssssssssssssssssssss\n",
    "def colo(gr):\n",
    "    colors=[]\n",
    "    count = 0\n",
    "    for node in gr:\n",
    "        if node.find('К') != -1: \n",
    "            colors.append('blue')\n",
    "            ch=int(node[node.find('К')+2:])\n",
    "            count = count + ch \n",
    "        else: colors.append('y')\n",
    "    print(count)\n",
    "    return colors"
   ]
  },
  {
   "cell_type": "markdown",
   "metadata": {},
   "source": [
    "# Start of Algoritm try"
   ]
  },
  {
   "cell_type": "code",
   "execution_count": 4,
   "metadata": {},
   "outputs": [],
   "source": [
    "cifar10_dataset_folder_path=''\n",
    "batch_id = 'train'#3\n",
    "sample_id = 7000\n",
    "#features, labels = load_cfar10_batch(cifar10_dataset_folder_path, batch_id)\n",
    "prefeatures = load_cfar10_batch(cifar10_dataset_folder_path, batch_id)\n",
    "features = prefeatures[:1000]\n",
    "features = features / 255 #АААААААААААААААААААААААААААААА"
   ]
  },
  {
   "cell_type": "code",
   "execution_count": 5,
   "metadata": {
    "scrolled": true
   },
   "outputs": [],
   "source": [
    "weights = np.array([random.uniform(0,1) for i in range(15360)]).reshape(5,32,32,3)\n",
    "epoch=10\n",
    "network = kohonenNetwork(5,0.1, weights)"
   ]
  },
  {
   "cell_type": "code",
   "execution_count": 6,
   "metadata": {
    "scrolled": false
   },
   "outputs": [
    {
     "name": "stdout",
     "output_type": "stream",
     "text": [
      "0:00:05.908875\n"
     ]
    }
   ],
   "source": [
    "start_time = datetime.now()\n",
    "newdata=method(features,network=network,numbers='0')\n",
    "print(datetime.now() - start_time)"
   ]
  },
  {
   "cell_type": "code",
   "execution_count": null,
   "metadata": {},
   "outputs": [],
   "source": [
    "#Визуаализация плюс алгоритм поиска простым обходом(перебор)\n",
    "fig = plt.gcf()\n",
    "fig.set_size_inches(100,100, forward=True)\n",
    "gr = nx.Graph()\n",
    "visual(newdata,gr,'0', features[0])\n",
    "colors = colo(gr)\n",
    "nx.draw_spring(gr,node_size=50, with_labels=True, node_color=colors ,node_shape='.')\n",
    "plt.savefig('', type='png')"
   ]
  },
  {
   "cell_type": "markdown",
   "metadata": {},
   "source": [
    "# Test of searching"
   ]
  },
  {
   "cell_type": "code",
   "execution_count": 9,
   "metadata": {
    "scrolled": false
   },
   "outputs": [
    {
     "name": "stdout",
     "output_type": "stream",
     "text": [
      "0,2 <-here\n",
      "0,2,4 <-here\n",
      "0,2,4,1 <-here\n",
      "0,2,4,1,2 <-here\n",
      "0,2,4,1,2,0 <-here\n",
      "0,2,4,1,2,0,0 <-here\n",
      "0:00:00.058844\n",
      "первый ноль не нужен-как корень\n",
      "результат: [2, 4, 1, 2, 0, 0]\n"
     ]
    }
   ],
   "source": [
    "weights = np.array([random.uniform(0,1) for i in range(15360)]).reshape(5,32,32,3)\n",
    "network = kohonenNetwork(5,0.1, weights)\n",
    "\n",
    "ranImage = random.randrange(1,999)\n",
    "ranImage = 999\n",
    "myImage=features[ranImage]\n",
    "\n",
    "\n",
    "start_time = datetime.now()#############\n",
    "\n",
    "path = ''\n",
    "network.load(path+'0.npy')\n",
    "nextstr = '0,'\n",
    "nextstr = nextstr + str(network.cluster(myImage))\n",
    "while(True):\n",
    "    print(nextstr,'<-here')\n",
    "    try:\n",
    "        network.load(path+nextstr+'.npy')\n",
    "    except Exception:\n",
    "            result = nextstr.split(',')\n",
    "            break    \n",
    "    nextstr = nextstr+','+ str(network.cluster(myImage))\n",
    "\n",
    "\n",
    "print(datetime.now() - start_time)#############\n",
    "\n",
    "intresult=[]\n",
    "\n",
    "for i in result:\n",
    "    intresult.append(int(i))\n",
    "    \n",
    "print('первый ноль не нужен-как корень')\n",
    "#intresult.append(intresult.pop()-1)\n",
    "intresult.pop(0)\n",
    "\n",
    "print('результат:',intresult)\n",
    "#поск списка в к отором наш элемент\n",
    "res=newdata\n",
    "for i in intresult:  \n",
    "    res=res[i]\n",
    "#поиск внутри этого списка \n",
    "#print(res)\n",
    "#for img in res:\n",
    "#    if(np.array_equal(img,myImage)): print('нашёл')"
   ]
  },
  {
   "cell_type": "code",
   "execution_count": 219,
   "metadata": {},
   "outputs": [
    {
     "name": "stdout",
     "output_type": "stream",
     "text": [
      "Элемент найден\n"
     ]
    }
   ],
   "source": [
    "for i in res:\n",
    "    if(np.array_equal(i,myImage)):print('Элемент найден')"
   ]
  },
  {
   "cell_type": "code",
   "execution_count": 220,
   "metadata": {
    "scrolled": false
   },
   "outputs": [
    {
     "data": {
      "image/png": "[encoded data removed]",
      "text/plain": [
       "<Figure size 432x288 with 3 Axes>"
      ]
     },
     "metadata": {
      "needs_background": "light"
     },
     "output_type": "display_data"
    }
   ],
   "source": [
    "i=0\n",
    "for img in res:\n",
    "    plt.subplot(330 + 1 + i)\n",
    "    i+=1\n",
    "    plt.imshow(img)"
   ]
  },
  {
   "cell_type": "code",
   "execution_count": 221,
   "metadata": {},
   "outputs": [
    {
     "data": {
      "text/plain": [
       "<matplotlib.image.AxesImage at 0x1c8cb1debe0>"
      ]
     },
     "execution_count": 221,
     "metadata": {},
     "output_type": "execute_result"
    },
    {
     "data": {
      "image/png": "[encoded data removed]",
      "text/plain": [
       "<Figure size 432x288 with 1 Axes>"
      ]
     },
     "metadata": {
      "needs_background": "light"
     },
     "output_type": "display_data"
    }
   ],
   "source": [
    "plt.imshow(myImage)"
   ]
  }
 ],
 "metadata": {
  "kernelspec": {
   "display_name": "Python 3",
   "language": "python",
   "name": "python3"
  },
  "language_info": {
   "codemirror_mode": {
    "name": "ipython",
    "version": 3
   },
   "file_extension": ".py",
   "mimetype": "text/x-python",
   "name": "python",
   "nbconvert_exporter": "python",
   "pygments_lexer": "ipython3",
   "version": "3.7.0"
  }
 },
 "nbformat": 4,
 "nbformat_minor": 4
}
